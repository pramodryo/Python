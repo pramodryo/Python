{
 "cells": [
  {
   "cell_type": "markdown",
   "id": "e9ea7720",
   "metadata": {},
   "source": [
    "# Why Pandas? or What is Pandas?\n",
    "Pandas can handle the different types of data\n",
    "\n",
    "Tabular Data : Excel :Rows &Cols in similar way tabular data is k/as combination of rows and cols.\n",
    "It can handle unstructured data..\n",
    "ordered and unordered data.\n",
    "homogeneous data\n",
    "\n",
    "### Pandas can handle 2 types of data structures\n",
    "Series (1-dimensional)\n",
    "DataFrames (2-D)\n",
    "\n",
    "# What Pandas can do.?\n",
    "missing data\n",
    "Insert/Delete operations on DataFrame\n",
    "\n",
    "We can align the data (Data Alignment/reindexing)\n",
    "\n",
    "We can group the data\n",
    "\n",
    "we can convert data into different forms/formats\n",
    "\n",
    "We can performing joining and merging operations\n",
    "\n",
    "reshaping\n",
    "\n",
    "pivoting\n",
    "\n",
    "we can load flat files (Text files)\n",
    "\n",
    "We can time series data"
   ]
  },
  {
   "cell_type": "code",
   "execution_count": 1,
   "id": "b7eea129",
   "metadata": {},
   "outputs": [],
   "source": [
    "import pandas as pd"
   ]
  },
  {
   "cell_type": "code",
   "execution_count": 2,
   "id": "de187e0c",
   "metadata": {},
   "outputs": [
    {
     "name": "stdout",
     "output_type": "stream",
     "text": [
      "{'Name': ['pramod', 'avinash', 'abhishek', 'pooja'], 'Age': [23, 22, 21, 20], 'Gender': ['male', 'male', 'male', 'Female']}\n"
     ]
    }
   ],
   "source": [
    "# create a dictionary\n",
    "\n",
    "passenger_list = {\n",
    "    \"Name\":[\"pramod\",\"avinash\",\"abhishek\",\"pooja\"],\n",
    "    \"Age\" : [23,22,21,20],\n",
    "    \"Gender\" : [\"male\",\"male\",\"male\",\"Female\"]\n",
    "}\n",
    "print(passenger_list)"
   ]
  },
  {
   "cell_type": "code",
   "execution_count": 3,
   "id": "bda2cf1b",
   "metadata": {},
   "outputs": [],
   "source": [
    "# create a datafreme from above dictionary\n",
    "df = pd.DataFrame(passenger_list)"
   ]
  },
  {
   "cell_type": "code",
   "execution_count": 4,
   "id": "5408b16e",
   "metadata": {},
   "outputs": [
    {
     "data": {
      "text/html": [
       "<div>\n",
       "<style scoped>\n",
       "    .dataframe tbody tr th:only-of-type {\n",
       "        vertical-align: middle;\n",
       "    }\n",
       "\n",
       "    .dataframe tbody tr th {\n",
       "        vertical-align: top;\n",
       "    }\n",
       "\n",
       "    .dataframe thead th {\n",
       "        text-align: right;\n",
       "    }\n",
       "</style>\n",
       "<table border=\"1\" class=\"dataframe\">\n",
       "  <thead>\n",
       "    <tr style=\"text-align: right;\">\n",
       "      <th></th>\n",
       "      <th>Name</th>\n",
       "      <th>Age</th>\n",
       "      <th>Gender</th>\n",
       "    </tr>\n",
       "  </thead>\n",
       "  <tbody>\n",
       "    <tr>\n",
       "      <th>0</th>\n",
       "      <td>pramod</td>\n",
       "      <td>23</td>\n",
       "      <td>male</td>\n",
       "    </tr>\n",
       "    <tr>\n",
       "      <th>1</th>\n",
       "      <td>avinash</td>\n",
       "      <td>22</td>\n",
       "      <td>male</td>\n",
       "    </tr>\n",
       "    <tr>\n",
       "      <th>2</th>\n",
       "      <td>abhishek</td>\n",
       "      <td>21</td>\n",
       "      <td>male</td>\n",
       "    </tr>\n",
       "    <tr>\n",
       "      <th>3</th>\n",
       "      <td>pooja</td>\n",
       "      <td>20</td>\n",
       "      <td>Female</td>\n",
       "    </tr>\n",
       "  </tbody>\n",
       "</table>\n",
       "</div>"
      ],
      "text/plain": [
       "       Name  Age  Gender\n",
       "0    pramod   23    male\n",
       "1   avinash   22    male\n",
       "2  abhishek   21    male\n",
       "3     pooja   20  Female"
      ]
     },
     "execution_count": 4,
     "metadata": {},
     "output_type": "execute_result"
    }
   ],
   "source": [
    "df"
   ]
  },
  {
   "cell_type": "code",
   "execution_count": 5,
   "id": "e14b60aa",
   "metadata": {},
   "outputs": [
    {
     "data": {
      "text/plain": [
       "pandas.core.frame.DataFrame"
      ]
     },
     "execution_count": 5,
     "metadata": {},
     "output_type": "execute_result"
    }
   ],
   "source": [
    "type(df)"
   ]
  },
  {
   "cell_type": "markdown",
   "id": "022acf61",
   "metadata": {},
   "source": [
    "# Series\n",
    "Each column in a DataFrame is a series"
   ]
  },
  {
   "cell_type": "code",
   "execution_count": 6,
   "id": "8d31e4d8",
   "metadata": {},
   "outputs": [
    {
     "data": {
      "text/html": [
       "<div>\n",
       "<style scoped>\n",
       "    .dataframe tbody tr th:only-of-type {\n",
       "        vertical-align: middle;\n",
       "    }\n",
       "\n",
       "    .dataframe tbody tr th {\n",
       "        vertical-align: top;\n",
       "    }\n",
       "\n",
       "    .dataframe thead th {\n",
       "        text-align: right;\n",
       "    }\n",
       "</style>\n",
       "<table border=\"1\" class=\"dataframe\">\n",
       "  <thead>\n",
       "    <tr style=\"text-align: right;\">\n",
       "      <th></th>\n",
       "      <th>Name</th>\n",
       "      <th>Age</th>\n",
       "      <th>Gender</th>\n",
       "    </tr>\n",
       "  </thead>\n",
       "  <tbody>\n",
       "    <tr>\n",
       "      <th>0</th>\n",
       "      <td>pramod</td>\n",
       "      <td>23</td>\n",
       "      <td>male</td>\n",
       "    </tr>\n",
       "    <tr>\n",
       "      <th>1</th>\n",
       "      <td>avinash</td>\n",
       "      <td>22</td>\n",
       "      <td>male</td>\n",
       "    </tr>\n",
       "    <tr>\n",
       "      <th>2</th>\n",
       "      <td>abhishek</td>\n",
       "      <td>21</td>\n",
       "      <td>male</td>\n",
       "    </tr>\n",
       "    <tr>\n",
       "      <th>3</th>\n",
       "      <td>pooja</td>\n",
       "      <td>20</td>\n",
       "      <td>Female</td>\n",
       "    </tr>\n",
       "  </tbody>\n",
       "</table>\n",
       "</div>"
      ],
      "text/plain": [
       "       Name  Age  Gender\n",
       "0    pramod   23    male\n",
       "1   avinash   22    male\n",
       "2  abhishek   21    male\n",
       "3     pooja   20  Female"
      ]
     },
     "execution_count": 6,
     "metadata": {},
     "output_type": "execute_result"
    }
   ],
   "source": [
    "df"
   ]
  },
  {
   "cell_type": "code",
   "execution_count": 7,
   "id": "b455d4d6",
   "metadata": {},
   "outputs": [
    {
     "data": {
      "text/plain": [
       "pandas.core.series.Series"
      ]
     },
     "execution_count": 7,
     "metadata": {},
     "output_type": "execute_result"
    }
   ],
   "source": [
    "#Check the datatypes of column\n",
    "\n",
    "type(df[\"Name\"])"
   ]
  },
  {
   "cell_type": "code",
   "execution_count": 12,
   "id": "61158309",
   "metadata": {},
   "outputs": [
    {
     "data": {
      "text/plain": [
       "dtype('O')"
      ]
     },
     "execution_count": 12,
     "metadata": {},
     "output_type": "execute_result"
    }
   ],
   "source": [
    "df[\"Name\"].dtypes"
   ]
  },
  {
   "cell_type": "code",
   "execution_count": 13,
   "id": "88adaea8",
   "metadata": {},
   "outputs": [],
   "source": [
    "# create a series\n",
    "ages = [21,25,26,28,76]"
   ]
  },
  {
   "cell_type": "code",
   "execution_count": 16,
   "id": "67a8f29f",
   "metadata": {},
   "outputs": [
    {
     "data": {
      "text/plain": [
       "0    21\n",
       "1    25\n",
       "2    26\n",
       "3    28\n",
       "4    76\n",
       "dtype: int64"
      ]
     },
     "execution_count": 16,
     "metadata": {},
     "output_type": "execute_result"
    }
   ],
   "source": [
    "# converting list into series (note: in pd.Series here \"S\" is Uppercase)\n",
    "series_1 = pd.Series(ages)\n",
    "series_1"
   ]
  },
  {
   "cell_type": "code",
   "execution_count": 17,
   "id": "5ce74798",
   "metadata": {},
   "outputs": [
    {
     "data": {
      "text/plain": [
       "pandas.core.series.Series"
      ]
     },
     "execution_count": 17,
     "metadata": {},
     "output_type": "execute_result"
    }
   ],
   "source": [
    "type(series_1)"
   ]
  },
  {
   "cell_type": "code",
   "execution_count": 19,
   "id": "2751558c",
   "metadata": {},
   "outputs": [
    {
     "data": {
      "text/plain": [
       "0    1\n",
       "1    2\n",
       "2    3\n",
       "3    4\n",
       "4    5\n",
       "dtype: int64"
      ]
     },
     "execution_count": 19,
     "metadata": {},
     "output_type": "execute_result"
    }
   ],
   "source": [
    "pd.Series([1,2,3,4,5])"
   ]
  },
  {
   "cell_type": "code",
   "execution_count": 20,
   "id": "d31b29a6",
   "metadata": {},
   "outputs": [
    {
     "data": {
      "text/plain": [
       "a    33\n",
       "b    35\n",
       "c    36\n",
       "dtype: int64"
      ]
     },
     "execution_count": 20,
     "metadata": {},
     "output_type": "execute_result"
    }
   ],
   "source": [
    "# create a series from dictionary\n",
    "dict1 = {\"a\": 33, \"b\":35,\"c\":36}\n",
    "\n",
    "series_2 = pd.Series(dict1)\n",
    "series_2"
   ]
  },
  {
   "cell_type": "code",
   "execution_count": 23,
   "id": "9f50caa3",
   "metadata": {},
   "outputs": [
    {
     "data": {
      "text/plain": [
       "0    50\n",
       "1    39\n",
       "2    49\n",
       "Name: Marks, dtype: int64"
      ]
     },
     "execution_count": 23,
     "metadata": {},
     "output_type": "execute_result"
    }
   ],
   "source": [
    "marks = pd.Series([50,39,49], name = \"Marks\")\n",
    "marks"
   ]
  },
  {
   "cell_type": "code",
   "execution_count": 24,
   "id": "11fc1126",
   "metadata": {},
   "outputs": [
    {
     "data": {
      "text/plain": [
       "0    50.5\n",
       "1    39.0\n",
       "2    49.0\n",
       "Name: Marks, dtype: float64"
      ]
     },
     "execution_count": 24,
     "metadata": {},
     "output_type": "execute_result"
    }
   ],
   "source": [
    "marks = pd.Series([50.5,39,49], name = \"Marks\")\n",
    "marks"
   ]
  },
  {
   "cell_type": "code",
   "execution_count": 25,
   "id": "972f11e0",
   "metadata": {},
   "outputs": [
    {
     "data": {
      "text/plain": [
       "a    33\n",
       "b    35\n",
       "c    36\n",
       "dtype: int64"
      ]
     },
     "execution_count": 25,
     "metadata": {},
     "output_type": "execute_result"
    }
   ],
   "source": [
    "series_2"
   ]
  },
  {
   "cell_type": "code",
   "execution_count": 26,
   "id": "608b6c6c",
   "metadata": {},
   "outputs": [
    {
     "data": {
      "text/plain": [
       "Index(['a', 'b', 'c'], dtype='object')"
      ]
     },
     "execution_count": 26,
     "metadata": {},
     "output_type": "execute_result"
    }
   ],
   "source": [
    "# Extract the index name of seies_2\n",
    "series_2.index"
   ]
  },
  {
   "cell_type": "code",
   "execution_count": 27,
   "id": "562e3cb4",
   "metadata": {},
   "outputs": [
    {
     "data": {
      "text/plain": [
       "array([21, 25, 26, 28, 76], dtype=int64)"
      ]
     },
     "execution_count": 27,
     "metadata": {},
     "output_type": "execute_result"
    }
   ],
   "source": [
    "# convert series to array\n",
    "series_1.values"
   ]
  },
  {
   "cell_type": "code",
   "execution_count": 32,
   "id": "3dde1157",
   "metadata": {},
   "outputs": [
    {
     "data": {
      "text/plain": [
       "{'a': 33, 'b': 35, 'c': 36}"
      ]
     },
     "execution_count": 32,
     "metadata": {},
     "output_type": "execute_result"
    }
   ],
   "source": [
    "dict1"
   ]
  },
  {
   "cell_type": "code",
   "execution_count": 30,
   "id": "5bc25f9f",
   "metadata": {},
   "outputs": [
    {
     "data": {
      "text/plain": [
       "a    33\n",
       "b    35\n",
       "c    36\n",
       "dtype: int64"
      ]
     },
     "execution_count": 30,
     "metadata": {},
     "output_type": "execute_result"
    }
   ],
   "source": [
    "# pd.Series(dict1)\n",
    "pd.Series(data = dict1.values(),index = dict1.keys())"
   ]
  },
  {
   "cell_type": "code",
   "execution_count": 31,
   "id": "eb7fe187",
   "metadata": {},
   "outputs": [
    {
     "data": {
      "text/plain": [
       "x   NaN\n",
       "y   NaN\n",
       "z   NaN\n",
       "dtype: float64"
      ]
     },
     "execution_count": 31,
     "metadata": {},
     "output_type": "execute_result"
    }
   ],
   "source": [
    "pd.Series(dict1,index = [\"x\",\"y\",\"z\"])"
   ]
  },
  {
   "cell_type": "code",
   "execution_count": 33,
   "id": "c7cbaadf",
   "metadata": {},
   "outputs": [
    {
     "data": {
      "text/plain": [
       "x     NaN\n",
       "b    35.0\n",
       "z     NaN\n",
       "dtype: float64"
      ]
     },
     "execution_count": 33,
     "metadata": {},
     "output_type": "execute_result"
    }
   ],
   "source": [
    "pd.Series(dict1,index = [\"x\",\"b\",\"z\"])"
   ]
  },
  {
   "cell_type": "code",
   "execution_count": 35,
   "id": "4225e8ad",
   "metadata": {},
   "outputs": [],
   "source": [
    "import numpy as np"
   ]
  },
  {
   "cell_type": "code",
   "execution_count": 36,
   "id": "84899978",
   "metadata": {},
   "outputs": [
    {
     "data": {
      "text/plain": [
       "float"
      ]
     },
     "execution_count": 36,
     "metadata": {},
     "output_type": "execute_result"
    }
   ],
   "source": [
    "type(np.nan)"
   ]
  },
  {
   "cell_type": "code",
   "execution_count": 38,
   "id": "d9a37d55",
   "metadata": {},
   "outputs": [
    {
     "data": {
      "text/plain": [
       "33    a\n",
       "35    b\n",
       "36    c\n",
       "dtype: object"
      ]
     },
     "execution_count": 38,
     "metadata": {},
     "output_type": "execute_result"
    }
   ],
   "source": [
    "pd.Series(data = dict1.keys(), index = dict1.values())"
   ]
  },
  {
   "cell_type": "markdown",
   "id": "5e120029",
   "metadata": {},
   "source": [
    "# Operation on the series"
   ]
  },
  {
   "cell_type": "code",
   "execution_count": 40,
   "id": "4bb47820",
   "metadata": {},
   "outputs": [],
   "source": [
    "# create a series from as array\n",
    "array1 = np.random.randint(1,50,10)\n",
    "series_array = pd.Series(array1)"
   ]
  },
  {
   "cell_type": "code",
   "execution_count": 41,
   "id": "031052be",
   "metadata": {},
   "outputs": [
    {
     "data": {
      "text/plain": [
       "0    40\n",
       "1    46\n",
       "2     3\n",
       "3    11\n",
       "4     8\n",
       "5    19\n",
       "6    33\n",
       "7    19\n",
       "8    26\n",
       "9    47\n",
       "dtype: int32"
      ]
     },
     "execution_count": 41,
     "metadata": {},
     "output_type": "execute_result"
    }
   ],
   "source": [
    "series_array"
   ]
  },
  {
   "cell_type": "markdown",
   "id": "a5c76ec5",
   "metadata": {},
   "source": [
    "# How to index a series"
   ]
  },
  {
   "cell_type": "code",
   "execution_count": 42,
   "id": "59d9f53f",
   "metadata": {},
   "outputs": [
    {
     "data": {
      "text/plain": [
       "19"
      ]
     },
     "execution_count": 42,
     "metadata": {},
     "output_type": "execute_result"
    }
   ],
   "source": [
    "series_array[5]"
   ]
  },
  {
   "cell_type": "code",
   "execution_count": 43,
   "id": "f0265e13",
   "metadata": {},
   "outputs": [
    {
     "data": {
      "text/plain": [
       "49.0"
      ]
     },
     "execution_count": 43,
     "metadata": {},
     "output_type": "execute_result"
    }
   ],
   "source": [
    "marks[2]"
   ]
  },
  {
   "cell_type": "code",
   "execution_count": 44,
   "id": "6ecf1997",
   "metadata": {},
   "outputs": [
    {
     "data": {
      "text/plain": [
       "a    33\n",
       "b    35\n",
       "c    36\n",
       "dtype: int64"
      ]
     },
     "execution_count": 44,
     "metadata": {},
     "output_type": "execute_result"
    }
   ],
   "source": [
    "series_2"
   ]
  },
  {
   "cell_type": "code",
   "execution_count": 45,
   "id": "bb71a4f0",
   "metadata": {},
   "outputs": [
    {
     "data": {
      "text/plain": [
       "35"
      ]
     },
     "execution_count": 45,
     "metadata": {},
     "output_type": "execute_result"
    }
   ],
   "source": [
    "series_2[1]"
   ]
  },
  {
   "cell_type": "code",
   "execution_count": 46,
   "id": "c3ace254",
   "metadata": {},
   "outputs": [
    {
     "data": {
      "text/plain": [
       "35"
      ]
     },
     "execution_count": 46,
     "metadata": {},
     "output_type": "execute_result"
    }
   ],
   "source": [
    "series_2[\"b\"]"
   ]
  },
  {
   "cell_type": "code",
   "execution_count": 47,
   "id": "648daef9",
   "metadata": {},
   "outputs": [
    {
     "data": {
      "text/plain": [
       "3    11\n",
       "5    19\n",
       "dtype: int32"
      ]
     },
     "execution_count": 47,
     "metadata": {},
     "output_type": "execute_result"
    }
   ],
   "source": [
    "# slicing\n",
    "series_array[3:7:2] "
   ]
  },
  {
   "cell_type": "markdown",
   "id": "fbc1f453",
   "metadata": {},
   "source": [
    "# sorting in a series"
   ]
  },
  {
   "cell_type": "code",
   "execution_count": 48,
   "id": "34a10449",
   "metadata": {},
   "outputs": [
    {
     "data": {
      "text/plain": [
       "0    40\n",
       "1    46\n",
       "2     3\n",
       "3    11\n",
       "4     8\n",
       "5    19\n",
       "6    33\n",
       "7    19\n",
       "8    26\n",
       "9    47\n",
       "dtype: int32"
      ]
     },
     "execution_count": 48,
     "metadata": {},
     "output_type": "execute_result"
    }
   ],
   "source": [
    "series_array"
   ]
  },
  {
   "cell_type": "code",
   "execution_count": 51,
   "id": "5034c64b",
   "metadata": {},
   "outputs": [
    {
     "data": {
      "text/plain": [
       "9    47\n",
       "1    46\n",
       "0    40\n",
       "6    33\n",
       "8    26\n",
       "5    19\n",
       "7    19\n",
       "3    11\n",
       "4     8\n",
       "2     3\n",
       "dtype: int32"
      ]
     },
     "execution_count": 51,
     "metadata": {},
     "output_type": "execute_result"
    }
   ],
   "source": [
    "series_array.sort_values(ascending = False) # descending order"
   ]
  },
  {
   "cell_type": "code",
   "execution_count": 52,
   "id": "b15468d4",
   "metadata": {},
   "outputs": [
    {
     "data": {
      "text/plain": [
       "2     3\n",
       "4     8\n",
       "3    11\n",
       "5    19\n",
       "7    19\n",
       "8    26\n",
       "6    33\n",
       "0    40\n",
       "1    46\n",
       "9    47\n",
       "dtype: int32"
      ]
     },
     "execution_count": 52,
     "metadata": {},
     "output_type": "execute_result"
    }
   ],
   "source": [
    "series_array.sort_values(ascending = True) # asending order"
   ]
  },
  {
   "cell_type": "code",
   "execution_count": 53,
   "id": "43e7261d",
   "metadata": {},
   "outputs": [
    {
     "data": {
      "text/plain": [
       "0     3\n",
       "1     8\n",
       "2    11\n",
       "3    19\n",
       "4    19\n",
       "5    26\n",
       "6    33\n",
       "7    40\n",
       "8    46\n",
       "9    47\n",
       "dtype: int32"
      ]
     },
     "execution_count": 53,
     "metadata": {},
     "output_type": "execute_result"
    }
   ],
   "source": [
    "# sort the series with index number reorderd : resetting the index\n",
    "series_array.sort_values(ascending = True).reset_index(drop = True)"
   ]
  },
  {
   "cell_type": "code",
   "execution_count": 54,
   "id": "2631c4ca",
   "metadata": {},
   "outputs": [
    {
     "data": {
      "text/plain": [
       "9    47\n",
       "8    26\n",
       "7    19\n",
       "6    33\n",
       "5    19\n",
       "4     8\n",
       "3    11\n",
       "2     3\n",
       "1    46\n",
       "0    40\n",
       "dtype: int32"
      ]
     },
     "execution_count": 54,
     "metadata": {},
     "output_type": "execute_result"
    }
   ],
   "source": [
    "# sort the values on the basis of index\n",
    "series_array.sort_index(ascending = False)"
   ]
  },
  {
   "cell_type": "markdown",
   "id": "0c170e7d",
   "metadata": {},
   "source": [
    "#  arithmetic operation"
   ]
  },
  {
   "cell_type": "code",
   "execution_count": 55,
   "id": "d55a0638",
   "metadata": {},
   "outputs": [
    {
     "data": {
      "text/plain": [
       "0    40\n",
       "1    46\n",
       "2     3\n",
       "3    11\n",
       "4     8\n",
       "5    19\n",
       "6    33\n",
       "7    19\n",
       "8    26\n",
       "9    47\n",
       "dtype: int32"
      ]
     },
     "execution_count": 55,
     "metadata": {},
     "output_type": "execute_result"
    }
   ],
   "source": [
    "series_array"
   ]
  },
  {
   "cell_type": "code",
   "execution_count": 56,
   "id": "a1e18eda",
   "metadata": {},
   "outputs": [
    {
     "data": {
      "text/plain": [
       "9"
      ]
     },
     "execution_count": 56,
     "metadata": {},
     "output_type": "execute_result"
    }
   ],
   "source": [
    "# extracting the index of maximum element\n",
    "series_array.argmax()"
   ]
  },
  {
   "cell_type": "code",
   "execution_count": 58,
   "id": "f4b0a986",
   "metadata": {},
   "outputs": [
    {
     "data": {
      "text/plain": [
       "9"
      ]
     },
     "execution_count": 58,
     "metadata": {},
     "output_type": "execute_result"
    }
   ],
   "source": [
    "series_array.idxmax()"
   ]
  },
  {
   "cell_type": "code",
   "execution_count": 59,
   "id": "75d3bb40",
   "metadata": {},
   "outputs": [
    {
     "data": {
      "text/plain": [
       "47"
      ]
     },
     "execution_count": 59,
     "metadata": {},
     "output_type": "execute_result"
    }
   ],
   "source": [
    "series_array.max()"
   ]
  },
  {
   "cell_type": "code",
   "execution_count": 60,
   "id": "bcf3c58f",
   "metadata": {},
   "outputs": [
    {
     "data": {
      "text/plain": [
       "47"
      ]
     },
     "execution_count": 60,
     "metadata": {},
     "output_type": "execute_result"
    }
   ],
   "source": [
    "series_array[series_array.argmax()]"
   ]
  },
  {
   "cell_type": "code",
   "execution_count": 61,
   "id": "fa072cf6",
   "metadata": {},
   "outputs": [
    {
     "data": {
      "text/plain": [
       "47"
      ]
     },
     "execution_count": 61,
     "metadata": {},
     "output_type": "execute_result"
    }
   ],
   "source": [
    "series_array[series_array.idxmax()]"
   ]
  },
  {
   "cell_type": "code",
   "execution_count": 62,
   "id": "811aa5ee",
   "metadata": {},
   "outputs": [
    {
     "data": {
      "text/plain": [
       "2"
      ]
     },
     "execution_count": 62,
     "metadata": {},
     "output_type": "execute_result"
    }
   ],
   "source": [
    "# smallest element index in the series\n",
    "series_array.argmin()"
   ]
  },
  {
   "cell_type": "code",
   "execution_count": 64,
   "id": "bf7eeaa3",
   "metadata": {},
   "outputs": [
    {
     "data": {
      "text/plain": [
       "2"
      ]
     },
     "execution_count": 64,
     "metadata": {},
     "output_type": "execute_result"
    }
   ],
   "source": [
    "series_array.idxmin()"
   ]
  },
  {
   "cell_type": "code",
   "execution_count": 65,
   "id": "66a56988",
   "metadata": {},
   "outputs": [
    {
     "data": {
      "text/plain": [
       "3"
      ]
     },
     "execution_count": 65,
     "metadata": {},
     "output_type": "execute_result"
    }
   ],
   "source": [
    "series_array.min()"
   ]
  },
  {
   "cell_type": "code",
   "execution_count": 66,
   "id": "619ea550",
   "metadata": {},
   "outputs": [
    {
     "data": {
      "text/plain": [
       "3"
      ]
     },
     "execution_count": 66,
     "metadata": {},
     "output_type": "execute_result"
    }
   ],
   "source": [
    "series_array[series_array.idxmin()]"
   ]
  },
  {
   "cell_type": "code",
   "execution_count": 67,
   "id": "95c56520",
   "metadata": {},
   "outputs": [
    {
     "data": {
      "text/plain": [
       "3"
      ]
     },
     "execution_count": 67,
     "metadata": {},
     "output_type": "execute_result"
    }
   ],
   "source": [
    "series_array[series_array.argmin()]"
   ]
  },
  {
   "cell_type": "markdown",
   "id": "eec78a00",
   "metadata": {},
   "source": [
    "#  count operation on the series"
   ]
  },
  {
   "cell_type": "code",
   "execution_count": 68,
   "id": "7669ae25",
   "metadata": {},
   "outputs": [],
   "source": [
    "series3 = pd.Series([10,20,30,10,30,20,50,40,30,20,60,70,60,50,30,20,10])"
   ]
  },
  {
   "cell_type": "code",
   "execution_count": 70,
   "id": "d2234566",
   "metadata": {},
   "outputs": [
    {
     "data": {
      "text/plain": [
       "array([10, 20, 30, 50, 40, 60, 70], dtype=int64)"
      ]
     },
     "execution_count": 70,
     "metadata": {},
     "output_type": "execute_result"
    }
   ],
   "source": [
    "# unique number of element\n",
    "series3.unique()"
   ]
  },
  {
   "cell_type": "code",
   "execution_count": 71,
   "id": "bb830ef6",
   "metadata": {},
   "outputs": [
    {
     "data": {
      "text/plain": [
       "7"
      ]
     },
     "execution_count": 71,
     "metadata": {},
     "output_type": "execute_result"
    }
   ],
   "source": [
    "# totale number of unique elements\n",
    "series3.nunique()"
   ]
  },
  {
   "cell_type": "code",
   "execution_count": 73,
   "id": "104a1e2d",
   "metadata": {},
   "outputs": [
    {
     "data": {
      "text/plain": [
       "20    4\n",
       "30    4\n",
       "10    3\n",
       "50    2\n",
       "60    2\n",
       "40    1\n",
       "70    1\n",
       "dtype: int64"
      ]
     },
     "execution_count": 73,
     "metadata": {},
     "output_type": "execute_result"
    }
   ],
   "source": [
    "# occurance of each elements\n",
    "series3.value_counts()"
   ]
  },
  {
   "cell_type": "code",
   "execution_count": 74,
   "id": "9edfa598",
   "metadata": {},
   "outputs": [
    {
     "data": {
      "text/plain": [
       "17"
      ]
     },
     "execution_count": 74,
     "metadata": {},
     "output_type": "execute_result"
    }
   ],
   "source": [
    "# taotal number of elements\n",
    "series3.count()"
   ]
  },
  {
   "cell_type": "markdown",
   "id": "fb094a47",
   "metadata": {},
   "source": [
    "#  Create a series with missing values"
   ]
  },
  {
   "cell_type": "code",
   "execution_count": 75,
   "id": "447ba604",
   "metadata": {},
   "outputs": [],
   "source": [
    "series4 = pd.Series([1,5,2,np.nan])"
   ]
  },
  {
   "cell_type": "code",
   "execution_count": 76,
   "id": "8735515c",
   "metadata": {},
   "outputs": [
    {
     "data": {
      "text/plain": [
       "0    1.0\n",
       "1    5.0\n",
       "2    2.0\n",
       "3    NaN\n",
       "dtype: float64"
      ]
     },
     "execution_count": 76,
     "metadata": {},
     "output_type": "execute_result"
    }
   ],
   "source": [
    "series4"
   ]
  },
  {
   "cell_type": "code",
   "execution_count": 77,
   "id": "190b8eb4",
   "metadata": {},
   "outputs": [
    {
     "data": {
      "text/plain": [
       "3"
      ]
     },
     "execution_count": 77,
     "metadata": {},
     "output_type": "execute_result"
    }
   ],
   "source": [
    "series4.count() # count will not count missing values"
   ]
  },
  {
   "cell_type": "code",
   "execution_count": 79,
   "id": "cf68864b",
   "metadata": {},
   "outputs": [
    {
     "data": {
      "text/plain": [
       "4"
      ]
     },
     "execution_count": 79,
     "metadata": {},
     "output_type": "execute_result"
    }
   ],
   "source": [
    "# total size of series\n",
    "series4.size      # it counts total number of elements including missing values"
   ]
  },
  {
   "cell_type": "code",
   "execution_count": 80,
   "id": "fcf6558f",
   "metadata": {},
   "outputs": [
    {
     "data": {
      "text/plain": [
       "0    21\n",
       "1    25\n",
       "2    26\n",
       "3    28\n",
       "4    76\n",
       "dtype: int64"
      ]
     },
     "execution_count": 80,
     "metadata": {},
     "output_type": "execute_result"
    }
   ],
   "source": [
    "series_1"
   ]
  },
  {
   "cell_type": "code",
   "execution_count": 81,
   "id": "3644ef2d",
   "metadata": {},
   "outputs": [
    {
     "data": {
      "text/plain": [
       "0    23\n",
       "1    27\n",
       "2    28\n",
       "3    30\n",
       "4    78\n",
       "dtype: int64"
      ]
     },
     "execution_count": 81,
     "metadata": {},
     "output_type": "execute_result"
    }
   ],
   "source": [
    "series_1.add(2) # it add (+) 2 in each elements "
   ]
  },
  {
   "cell_type": "code",
   "execution_count": 82,
   "id": "653ce8a6",
   "metadata": {},
   "outputs": [
    {
     "data": {
      "text/plain": [
       "0    19\n",
       "1    23\n",
       "2    24\n",
       "3    26\n",
       "4    74\n",
       "dtype: int64"
      ]
     },
     "execution_count": 82,
     "metadata": {},
     "output_type": "execute_result"
    }
   ],
   "source": [
    "series_1.sub(2)"
   ]
  },
  {
   "cell_type": "code",
   "execution_count": 83,
   "id": "63caa9f7",
   "metadata": {},
   "outputs": [
    {
     "data": {
      "text/plain": [
       "0     42\n",
       "1     50\n",
       "2     52\n",
       "3     56\n",
       "4    152\n",
       "dtype: int64"
      ]
     },
     "execution_count": 83,
     "metadata": {},
     "output_type": "execute_result"
    }
   ],
   "source": [
    "series_1.multiply(2)"
   ]
  },
  {
   "cell_type": "code",
   "execution_count": 84,
   "id": "c79f23f6",
   "metadata": {},
   "outputs": [
    {
     "data": {
      "text/plain": [
       "0    10.5\n",
       "1    12.5\n",
       "2    13.0\n",
       "3    14.0\n",
       "4    38.0\n",
       "dtype: float64"
      ]
     },
     "execution_count": 84,
     "metadata": {},
     "output_type": "execute_result"
    }
   ],
   "source": [
    "series_1.divide(2)"
   ]
  },
  {
   "cell_type": "code",
   "execution_count": 85,
   "id": "8cb15bc6",
   "metadata": {},
   "outputs": [],
   "source": [
    "# return the Quotient and remainder both\n",
    "q,r = series_1.divmod(4)"
   ]
  },
  {
   "cell_type": "code",
   "execution_count": 86,
   "id": "d50205da",
   "metadata": {},
   "outputs": [
    {
     "data": {
      "text/plain": [
       "0     5\n",
       "1     6\n",
       "2     6\n",
       "3     7\n",
       "4    19\n",
       "dtype: int64"
      ]
     },
     "execution_count": 86,
     "metadata": {},
     "output_type": "execute_result"
    }
   ],
   "source": [
    "q"
   ]
  },
  {
   "cell_type": "code",
   "execution_count": 87,
   "id": "56a2960d",
   "metadata": {},
   "outputs": [
    {
     "data": {
      "text/plain": [
       "0    1\n",
       "1    1\n",
       "2    2\n",
       "3    0\n",
       "4    0\n",
       "dtype: int64"
      ]
     },
     "execution_count": 87,
     "metadata": {},
     "output_type": "execute_result"
    }
   ],
   "source": [
    "r"
   ]
  },
  {
   "cell_type": "code",
   "execution_count": 88,
   "id": "102077d2",
   "metadata": {},
   "outputs": [
    {
     "data": {
      "text/plain": [
       "0    1\n",
       "1    1\n",
       "2    2\n",
       "3    0\n",
       "4    0\n",
       "dtype: int64"
      ]
     },
     "execution_count": 88,
     "metadata": {},
     "output_type": "execute_result"
    }
   ],
   "source": [
    "series_1.mod(4)  # only reminder"
   ]
  },
  {
   "cell_type": "code",
   "execution_count": 89,
   "id": "01804dc8",
   "metadata": {},
   "outputs": [
    {
     "data": {
      "text/plain": [
       "0    21\n",
       "1    25\n",
       "2    26\n",
       "3    28\n",
       "4    76\n",
       "dtype: int64"
      ]
     },
     "execution_count": 89,
     "metadata": {},
     "output_type": "execute_result"
    }
   ],
   "source": [
    "series_1"
   ]
  },
  {
   "cell_type": "code",
   "execution_count": 90,
   "id": "3623b02a",
   "metadata": {},
   "outputs": [
    {
     "data": {
      "text/plain": [
       "0    1\n",
       "1    2\n",
       "2    3\n",
       "3    4\n",
       "4    5\n",
       "5    5\n",
       "dtype: int64"
      ]
     },
     "execution_count": 90,
     "metadata": {},
     "output_type": "execute_result"
    }
   ],
   "source": [
    "series_3 = pd.Series([1,2,3,4,5,5])\n",
    "series_3"
   ]
  },
  {
   "cell_type": "code",
   "execution_count": 91,
   "id": "33c55b5a",
   "metadata": {},
   "outputs": [
    {
     "data": {
      "text/plain": [
       "0    22.0\n",
       "1    27.0\n",
       "2    29.0\n",
       "3    32.0\n",
       "4    81.0\n",
       "5     NaN\n",
       "dtype: float64"
      ]
     },
     "execution_count": 91,
     "metadata": {},
     "output_type": "execute_result"
    }
   ],
   "source": [
    "series_1.add(series_3)"
   ]
  },
  {
   "cell_type": "code",
   "execution_count": 92,
   "id": "eb62526a",
   "metadata": {},
   "outputs": [
    {
     "data": {
      "text/plain": [
       "0    21\n",
       "1    25\n",
       "2    26\n",
       "3    28\n",
       "4    76\n",
       "dtype: int64"
      ]
     },
     "execution_count": 92,
     "metadata": {},
     "output_type": "execute_result"
    }
   ],
   "source": [
    "series_1"
   ]
  },
  {
   "cell_type": "code",
   "execution_count": 93,
   "id": "480b9517",
   "metadata": {},
   "outputs": [
    {
     "data": {
      "text/plain": [
       "a    33\n",
       "b    35\n",
       "c    36\n",
       "dtype: int64"
      ]
     },
     "execution_count": 93,
     "metadata": {},
     "output_type": "execute_result"
    }
   ],
   "source": [
    "series_2"
   ]
  },
  {
   "cell_type": "code",
   "execution_count": 94,
   "id": "f7cb46ca",
   "metadata": {},
   "outputs": [
    {
     "data": {
      "text/plain": [
       "0   NaN\n",
       "1   NaN\n",
       "2   NaN\n",
       "3   NaN\n",
       "4   NaN\n",
       "a   NaN\n",
       "b   NaN\n",
       "c   NaN\n",
       "dtype: float64"
      ]
     },
     "execution_count": 94,
     "metadata": {},
     "output_type": "execute_result"
    }
   ],
   "source": [
    "series_1.add(series_2)"
   ]
  },
  {
   "cell_type": "code",
   "execution_count": 95,
   "id": "f9f6205b",
   "metadata": {},
   "outputs": [
    {
     "data": {
      "text/plain": [
       "0    1.0\n",
       "1    5.0\n",
       "2    2.0\n",
       "3    NaN\n",
       "dtype: float64"
      ]
     },
     "execution_count": 95,
     "metadata": {},
     "output_type": "execute_result"
    }
   ],
   "source": [
    "series4"
   ]
  },
  {
   "cell_type": "code",
   "execution_count": 96,
   "id": "85413387",
   "metadata": {},
   "outputs": [
    {
     "data": {
      "text/plain": [
       "0    22.0\n",
       "1    30.0\n",
       "2    28.0\n",
       "3     NaN\n",
       "4     NaN\n",
       "dtype: float64"
      ]
     },
     "execution_count": 96,
     "metadata": {},
     "output_type": "execute_result"
    }
   ],
   "source": [
    "series_1.add(series4)"
   ]
  },
  {
   "cell_type": "code",
   "execution_count": 97,
   "id": "b7971a45",
   "metadata": {},
   "outputs": [
    {
     "data": {
      "text/plain": [
       "(0    21\n",
       " 1    25\n",
       " 2    26\n",
       " 3    28\n",
       " 4    76\n",
       " dtype: int64,\n",
       " 0    1.0\n",
       " 1    5.0\n",
       " 2    2.0\n",
       " 3    NaN\n",
       " dtype: float64)"
      ]
     },
     "execution_count": 97,
     "metadata": {},
     "output_type": "execute_result"
    }
   ],
   "source": [
    "series_1, series4"
   ]
  },
  {
   "cell_type": "code",
   "execution_count": 99,
   "id": "2564c66a",
   "metadata": {},
   "outputs": [
    {
     "data": {
      "text/plain": [
       "0    22.0\n",
       "1    30.0\n",
       "2    28.0\n",
       "3    28.0\n",
       "4    76.0\n",
       "dtype: float64"
      ]
     },
     "execution_count": 99,
     "metadata": {},
     "output_type": "execute_result"
    }
   ],
   "source": [
    "series_1.add(series4,fill_value=0)"
   ]
  },
  {
   "cell_type": "markdown",
   "id": "66ae52e1",
   "metadata": {},
   "source": [
    "#  Aggregate Function"
   ]
  },
  {
   "cell_type": "code",
   "execution_count": 100,
   "id": "39052744",
   "metadata": {},
   "outputs": [
    {
     "data": {
      "text/plain": [
       "0    40\n",
       "1    46\n",
       "2     3\n",
       "3    11\n",
       "4     8\n",
       "5    19\n",
       "6    33\n",
       "7    19\n",
       "8    26\n",
       "9    47\n",
       "dtype: int32"
      ]
     },
     "execution_count": 100,
     "metadata": {},
     "output_type": "execute_result"
    }
   ],
   "source": [
    "series_array"
   ]
  },
  {
   "cell_type": "code",
   "execution_count": 101,
   "id": "d087d612",
   "metadata": {},
   "outputs": [
    {
     "data": {
      "text/plain": [
       "252"
      ]
     },
     "execution_count": 101,
     "metadata": {},
     "output_type": "execute_result"
    }
   ],
   "source": [
    "# sum of all elements in the series\n",
    "series_array.sum()"
   ]
  },
  {
   "cell_type": "code",
   "execution_count": 102,
   "id": "0fe0d0e4",
   "metadata": {},
   "outputs": [
    {
     "data": {
      "text/plain": [
       "0    21\n",
       "1    25\n",
       "2    26\n",
       "3    28\n",
       "4    76\n",
       "dtype: int64"
      ]
     },
     "execution_count": 102,
     "metadata": {},
     "output_type": "execute_result"
    }
   ],
   "source": [
    "# cumulative sum\n",
    "series_1"
   ]
  },
  {
   "cell_type": "code",
   "execution_count": 103,
   "id": "64e9e5a5",
   "metadata": {},
   "outputs": [
    {
     "data": {
      "text/plain": [
       "0     21\n",
       "1     46\n",
       "2     72\n",
       "3    100\n",
       "4    176\n",
       "dtype: int64"
      ]
     },
     "execution_count": 103,
     "metadata": {},
     "output_type": "execute_result"
    }
   ],
   "source": [
    "series_1.cumsum()"
   ]
  },
  {
   "cell_type": "code",
   "execution_count": 104,
   "id": "c9a55582",
   "metadata": {},
   "outputs": [
    {
     "data": {
      "text/plain": [
       "0          21\n",
       "1         525\n",
       "2       13650\n",
       "3      382200\n",
       "4    29047200\n",
       "dtype: int64"
      ]
     },
     "execution_count": 104,
     "metadata": {},
     "output_type": "execute_result"
    }
   ],
   "source": [
    "series_1.cumprod()"
   ]
  },
  {
   "cell_type": "code",
   "execution_count": 106,
   "id": "c1eb7abb",
   "metadata": {},
   "outputs": [
    {
     "data": {
      "text/plain": [
       "35.2"
      ]
     },
     "execution_count": 106,
     "metadata": {},
     "output_type": "execute_result"
    }
   ],
   "source": [
    "# find the nean of the series : mean,mode,median,variance, standard deviation \n",
    "series_1.aggregate(func = \"mean\")"
   ]
  },
  {
   "cell_type": "code",
   "execution_count": 107,
   "id": "f3376c23",
   "metadata": {},
   "outputs": [
    {
     "data": {
      "text/plain": [
       "35.2"
      ]
     },
     "execution_count": 107,
     "metadata": {},
     "output_type": "execute_result"
    }
   ],
   "source": [
    "series_1.agg(func = \"mean\")"
   ]
  },
  {
   "cell_type": "markdown",
   "id": "dc551c08",
   "metadata": {},
   "source": [
    "# Drop the duplicate from the series "
   ]
  },
  {
   "cell_type": "code",
   "execution_count": 111,
   "id": "b55e1903",
   "metadata": {},
   "outputs": [
    {
     "data": {
      "text/plain": [
       "0     10\n",
       "1     20\n",
       "2     30\n",
       "6     50\n",
       "7     40\n",
       "10    60\n",
       "11    70\n",
       "dtype: int64"
      ]
     },
     "execution_count": 111,
     "metadata": {},
     "output_type": "execute_result"
    }
   ],
   "source": [
    "series3.drop_duplicates()"
   ]
  },
  {
   "cell_type": "code",
   "execution_count": 112,
   "id": "800b2383",
   "metadata": {},
   "outputs": [
    {
     "data": {
      "text/plain": [
       "0    10\n",
       "1    20\n",
       "2    30\n",
       "3    50\n",
       "4    40\n",
       "5    60\n",
       "6    70\n",
       "dtype: int64"
      ]
     },
     "execution_count": 112,
     "metadata": {},
     "output_type": "execute_result"
    }
   ],
   "source": [
    "series3.drop_duplicates().reset_index(drop = True)"
   ]
  },
  {
   "cell_type": "code",
   "execution_count": 114,
   "id": "5f3ce2f8",
   "metadata": {},
   "outputs": [
    {
     "data": {
      "text/plain": [
       "0    1.0\n",
       "1    5.0\n",
       "2    2.0\n",
       "dtype: float64"
      ]
     },
     "execution_count": 114,
     "metadata": {},
     "output_type": "execute_result"
    }
   ],
   "source": [
    "# drop any missing values\n",
    "series4.dropna()"
   ]
  },
  {
   "cell_type": "markdown",
   "id": "0df49c92",
   "metadata": {},
   "source": [
    "#  append two series"
   ]
  },
  {
   "cell_type": "code",
   "execution_count": 115,
   "id": "bee67784",
   "metadata": {},
   "outputs": [
    {
     "data": {
      "text/plain": [
       "0    21\n",
       "1    25\n",
       "2    26\n",
       "3    28\n",
       "4    76\n",
       "dtype: int64"
      ]
     },
     "execution_count": 115,
     "metadata": {},
     "output_type": "execute_result"
    }
   ],
   "source": [
    "series_1"
   ]
  },
  {
   "cell_type": "code",
   "execution_count": 116,
   "id": "cfef79a3",
   "metadata": {},
   "outputs": [
    {
     "data": {
      "text/plain": [
       "a    33\n",
       "b    35\n",
       "c    36\n",
       "dtype: int64"
      ]
     },
     "execution_count": 116,
     "metadata": {},
     "output_type": "execute_result"
    }
   ],
   "source": [
    "series_2"
   ]
  },
  {
   "cell_type": "code",
   "execution_count": 117,
   "id": "db19b4fe",
   "metadata": {},
   "outputs": [
    {
     "data": {
      "text/plain": [
       "0    21\n",
       "1    25\n",
       "2    26\n",
       "3    28\n",
       "4    76\n",
       "a    33\n",
       "b    35\n",
       "c    36\n",
       "dtype: int64"
      ]
     },
     "execution_count": 117,
     "metadata": {},
     "output_type": "execute_result"
    }
   ],
   "source": [
    "series_1.append(series_2)"
   ]
  },
  {
   "cell_type": "code",
   "execution_count": 118,
   "id": "e3e574bb",
   "metadata": {},
   "outputs": [
    {
     "data": {
      "text/plain": [
       "0    21\n",
       "1    25\n",
       "2    26\n",
       "3    28\n",
       "4    76\n",
       "5    33\n",
       "6    35\n",
       "7    36\n",
       "dtype: int64"
      ]
     },
     "execution_count": 118,
     "metadata": {},
     "output_type": "execute_result"
    }
   ],
   "source": [
    "# ignore the index while appending\n",
    "series_1.append(series_2,ignore_index=True)"
   ]
  },
  {
   "cell_type": "code",
   "execution_count": 119,
   "id": "65df686d",
   "metadata": {},
   "outputs": [
    {
     "data": {
      "text/plain": [
       "0    21\n",
       "1    25\n",
       "2    26\n",
       "3    28\n",
       "4    76\n",
       "dtype: int64"
      ]
     },
     "execution_count": 119,
     "metadata": {},
     "output_type": "execute_result"
    }
   ],
   "source": [
    "#clip the series : any number below 25 I want to make it as 30 and any number above 80 i want to make it as 80\n",
    "series_1"
   ]
  },
  {
   "cell_type": "code",
   "execution_count": 120,
   "id": "03d70ef1",
   "metadata": {},
   "outputs": [
    {
     "data": {
      "text/plain": [
       "0    25\n",
       "1    25\n",
       "2    26\n",
       "3    28\n",
       "4    76\n",
       "dtype: int64"
      ]
     },
     "execution_count": 120,
     "metadata": {},
     "output_type": "execute_result"
    }
   ],
   "source": [
    "series_1.clip(25,80)"
   ]
  },
  {
   "cell_type": "code",
   "execution_count": 121,
   "id": "37d349dc",
   "metadata": {},
   "outputs": [
    {
     "data": {
      "text/plain": [
       "0    [1, 2, 3]\n",
       "1          foo\n",
       "2           []\n",
       "3       [3, 4]\n",
       "dtype: object"
      ]
     },
     "execution_count": 121,
     "metadata": {},
     "output_type": "execute_result"
    }
   ],
   "source": [
    "# create a mixed series\n",
    "series5 =pd.Series([[1,2,3],'foo',[],[3,4]])\n",
    "series5"
   ]
  },
  {
   "cell_type": "markdown",
   "id": "278b70f6",
   "metadata": {},
   "source": [
    "# I want below output\n",
    "1\n",
    "\n",
    "2\n",
    "\n",
    "3\n",
    "\n",
    "foo\n",
    "\n",
    "nan\n",
    "\n",
    "3\n",
    "\n",
    "4"
   ]
  },
  {
   "cell_type": "code",
   "execution_count": 122,
   "id": "54290a67",
   "metadata": {},
   "outputs": [
    {
     "data": {
      "text/plain": [
       "0      1\n",
       "0      2\n",
       "0      3\n",
       "1    foo\n",
       "2    NaN\n",
       "3      3\n",
       "3      4\n",
       "dtype: object"
      ]
     },
     "execution_count": 122,
     "metadata": {},
     "output_type": "execute_result"
    }
   ],
   "source": [
    "series5.explode() # explode each element in a row"
   ]
  },
  {
   "cell_type": "code",
   "execution_count": 123,
   "id": "311a6f45",
   "metadata": {},
   "outputs": [
    {
     "data": {
      "text/plain": [
       "0      1\n",
       "1      2\n",
       "2      3\n",
       "3    foo\n",
       "4    NaN\n",
       "5      3\n",
       "6      4\n",
       "dtype: object"
      ]
     },
     "execution_count": 123,
     "metadata": {},
     "output_type": "execute_result"
    }
   ],
   "source": [
    "series5.explode().reset_index(drop=True)"
   ]
  },
  {
   "cell_type": "markdown",
   "id": "9ab6610f",
   "metadata": {},
   "source": [
    "#  DataFrames"
   ]
  },
  {
   "cell_type": "code",
   "execution_count": 124,
   "id": "7c99fe69",
   "metadata": {},
   "outputs": [
    {
     "data": {
      "text/html": [
       "<div>\n",
       "<style scoped>\n",
       "    .dataframe tbody tr th:only-of-type {\n",
       "        vertical-align: middle;\n",
       "    }\n",
       "\n",
       "    .dataframe tbody tr th {\n",
       "        vertical-align: top;\n",
       "    }\n",
       "\n",
       "    .dataframe thead th {\n",
       "        text-align: right;\n",
       "    }\n",
       "</style>\n",
       "<table border=\"1\" class=\"dataframe\">\n",
       "  <thead>\n",
       "    <tr style=\"text-align: right;\">\n",
       "      <th></th>\n",
       "      <th>Name</th>\n",
       "      <th>Age</th>\n",
       "      <th>Gender</th>\n",
       "    </tr>\n",
       "  </thead>\n",
       "  <tbody>\n",
       "    <tr>\n",
       "      <th>0</th>\n",
       "      <td>pramod</td>\n",
       "      <td>23</td>\n",
       "      <td>male</td>\n",
       "    </tr>\n",
       "    <tr>\n",
       "      <th>1</th>\n",
       "      <td>avinash</td>\n",
       "      <td>22</td>\n",
       "      <td>male</td>\n",
       "    </tr>\n",
       "    <tr>\n",
       "      <th>2</th>\n",
       "      <td>abhishek</td>\n",
       "      <td>21</td>\n",
       "      <td>male</td>\n",
       "    </tr>\n",
       "    <tr>\n",
       "      <th>3</th>\n",
       "      <td>pooja</td>\n",
       "      <td>20</td>\n",
       "      <td>Female</td>\n",
       "    </tr>\n",
       "  </tbody>\n",
       "</table>\n",
       "</div>"
      ],
      "text/plain": [
       "       Name  Age  Gender\n",
       "0    pramod   23    male\n",
       "1   avinash   22    male\n",
       "2  abhishek   21    male\n",
       "3     pooja   20  Female"
      ]
     },
     "execution_count": 124,
     "metadata": {},
     "output_type": "execute_result"
    }
   ],
   "source": [
    "df"
   ]
  },
  {
   "cell_type": "code",
   "execution_count": 125,
   "id": "06daca07",
   "metadata": {},
   "outputs": [
    {
     "data": {
      "text/plain": [
       "23"
      ]
     },
     "execution_count": 125,
     "metadata": {},
     "output_type": "execute_result"
    }
   ],
   "source": [
    "df[\"Age\"].max()"
   ]
  },
  {
   "cell_type": "code",
   "execution_count": 126,
   "id": "bb1a38a7",
   "metadata": {},
   "outputs": [
    {
     "data": {
      "text/plain": [
       "20"
      ]
     },
     "execution_count": 126,
     "metadata": {},
     "output_type": "execute_result"
    }
   ],
   "source": [
    "df[\"Age\"].min()"
   ]
  },
  {
   "cell_type": "code",
   "execution_count": 127,
   "id": "2659d698",
   "metadata": {},
   "outputs": [
    {
     "data": {
      "text/plain": [
       "21.5"
      ]
     },
     "execution_count": 127,
     "metadata": {},
     "output_type": "execute_result"
    }
   ],
   "source": [
    "# df['Age'].mean()\n",
    "df['Age'].agg(func='mean')"
   ]
  },
  {
   "cell_type": "code",
   "execution_count": 128,
   "id": "377409bd",
   "metadata": {},
   "outputs": [
    {
     "data": {
      "text/plain": [
       "array(['male', 'Female'], dtype=object)"
      ]
     },
     "execution_count": 128,
     "metadata": {},
     "output_type": "execute_result"
    }
   ],
   "source": [
    "#find the unique values of Gender\n",
    "df['Gender'].unique()"
   ]
  }
 ],
 "metadata": {
  "kernelspec": {
   "display_name": "Python 3 (ipykernel)",
   "language": "python",
   "name": "python3"
  },
  "language_info": {
   "codemirror_mode": {
    "name": "ipython",
    "version": 3
   },
   "file_extension": ".py",
   "mimetype": "text/x-python",
   "name": "python",
   "nbconvert_exporter": "python",
   "pygments_lexer": "ipython3",
   "version": "3.9.7"
  }
 },
 "nbformat": 4,
 "nbformat_minor": 5
}
