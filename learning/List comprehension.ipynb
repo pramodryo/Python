{
 "cells": [
  {
   "cell_type": "code",
   "execution_count": 1,
   "id": "fb090ab4",
   "metadata": {},
   "outputs": [
    {
     "name": "stdout",
     "output_type": "stream",
     "text": [
      "True\n"
     ]
    }
   ],
   "source": [
    "if 3>2:\n",
    "    print(True)\n",
    "else:\n",
    "    print(False)"
   ]
  },
  {
   "cell_type": "code",
   "execution_count": 2,
   "id": "26f189ff",
   "metadata": {},
   "outputs": [
    {
     "name": "stdout",
     "output_type": "stream",
     "text": [
      "False\n"
     ]
    }
   ],
   "source": [
    "if 4<2:\n",
    "    print(True)\n",
    "else:\n",
    "    print(False)"
   ]
  },
  {
   "cell_type": "code",
   "execution_count": 3,
   "id": "67158673",
   "metadata": {},
   "outputs": [
    {
     "name": "stdout",
     "output_type": "stream",
     "text": [
      "0\n",
      "1\n",
      "2\n",
      "3\n",
      "4\n"
     ]
    }
   ],
   "source": [
    "for ele in range(5):\n",
    "    print(ele)"
   ]
  },
  {
   "cell_type": "code",
   "execution_count": 4,
   "id": "16751a36",
   "metadata": {},
   "outputs": [
    {
     "name": "stdout",
     "output_type": "stream",
     "text": [
      "1 2 3 4 "
     ]
    }
   ],
   "source": [
    "for ele in range(1,5):\n",
    "    print(ele, end= \" \")"
   ]
  },
  {
   "cell_type": "code",
   "execution_count": 5,
   "id": "4aaac6cc",
   "metadata": {},
   "outputs": [],
   "source": [
    "list1 = [\"Mango\",\"Banana\",\"Cherry\",\"pineapple\"]"
   ]
  },
  {
   "cell_type": "code",
   "execution_count": 6,
   "id": "873cc326",
   "metadata": {},
   "outputs": [
    {
     "name": "stdout",
     "output_type": "stream",
     "text": [
      "Mango\n",
      "Banana\n",
      "Cherry\n",
      "pineapple\n"
     ]
    }
   ],
   "source": [
    "for ele in list1:\n",
    "    print(ele)"
   ]
  },
  {
   "cell_type": "code",
   "execution_count": 7,
   "id": "79dde82e",
   "metadata": {},
   "outputs": [
    {
     "name": "stdout",
     "output_type": "stream",
     "text": [
      "0 Mango\n",
      "1 Banana\n",
      "2 Cherry\n",
      "3 pineapple\n"
     ]
    }
   ],
   "source": [
    "for idx, ele in enumerate(list1):\n",
    "    print(idx, ele)"
   ]
  },
  {
   "cell_type": "code",
   "execution_count": 8,
   "id": "31240526",
   "metadata": {},
   "outputs": [
    {
     "name": "stdout",
     "output_type": "stream",
     "text": [
      "10\n",
      "9\n",
      "8\n",
      "7\n",
      "6\n",
      "5\n",
      "4\n",
      "3\n",
      "2\n"
     ]
    }
   ],
   "source": [
    "for ele in range(10,1,-1):\n",
    "    print(ele)"
   ]
  },
  {
   "cell_type": "code",
   "execution_count": 9,
   "id": "f9791feb",
   "metadata": {},
   "outputs": [],
   "source": [
    "list1 = ['apple','banana','cherry','kiwi','mango']\n",
    "# filter apple : ['banana','cherry','kiwi','mango']"
   ]
  },
  {
   "cell_type": "code",
   "execution_count": 10,
   "id": "46b1959d",
   "metadata": {},
   "outputs": [
    {
     "data": {
      "text/plain": [
       "['banana', 'cherry', 'apple', 'kiwi', 'mango']"
      ]
     },
     "execution_count": 10,
     "metadata": {},
     "output_type": "execute_result"
    }
   ],
   "source": [
    "list1 = ['banana','cherry','apple','kiwi','mango']\n",
    "list1"
   ]
  },
  {
   "cell_type": "code",
   "execution_count": 14,
   "id": "e140da54",
   "metadata": {},
   "outputs": [
    {
     "name": "stdout",
     "output_type": "stream",
     "text": [
      "banana\n",
      "cherry\n",
      "apple found breaking the loop\n"
     ]
    }
   ],
   "source": [
    "for i in list1:\n",
    "    if i == \"apple\":\n",
    "        print(f\"{i} found breaking the loop\")\n",
    "        break\n",
    "    else:\n",
    "        print(i)"
   ]
  },
  {
   "cell_type": "code",
   "execution_count": 15,
   "id": "ef0ce36a",
   "metadata": {},
   "outputs": [
    {
     "data": {
      "text/plain": [
       "['banana', 'cherry', 'apple', 'kiwi', 'mango']"
      ]
     },
     "execution_count": 15,
     "metadata": {},
     "output_type": "execute_result"
    }
   ],
   "source": [
    "list1"
   ]
  },
  {
   "cell_type": "code",
   "execution_count": 16,
   "id": "5ff9b97d",
   "metadata": {},
   "outputs": [
    {
     "name": "stdout",
     "output_type": "stream",
     "text": [
      "banana\n",
      "cherry\n",
      "kiwi\n",
      "mango\n"
     ]
    }
   ],
   "source": [
    "for i in list1:\n",
    "    if i == \"apple\":\n",
    "        continue\n",
    "    else:\n",
    "        print(i)"
   ]
  },
  {
   "cell_type": "code",
   "execution_count": 17,
   "id": "f7beeac3",
   "metadata": {},
   "outputs": [
    {
     "data": {
      "text/plain": [
       "['banana', 'cherry', 'apple', 'kiwi', 'mango']"
      ]
     },
     "execution_count": 17,
     "metadata": {},
     "output_type": "execute_result"
    }
   ],
   "source": [
    "list1"
   ]
  },
  {
   "cell_type": "code",
   "execution_count": 20,
   "id": "fb088087",
   "metadata": {},
   "outputs": [],
   "source": [
    "output = []\n",
    "\n",
    "for ele in list1:\n",
    "    if(ele == \"apple\"):\n",
    "        continue\n",
    "    else:\n",
    "        output.append(ele)"
   ]
  },
  {
   "cell_type": "code",
   "execution_count": 21,
   "id": "d63f59ba",
   "metadata": {},
   "outputs": [
    {
     "data": {
      "text/plain": [
       "['banana', 'cherry', 'kiwi', 'mango']"
      ]
     },
     "execution_count": 21,
     "metadata": {},
     "output_type": "execute_result"
    }
   ],
   "source": [
    "output"
   ]
  },
  {
   "cell_type": "code",
   "execution_count": 22,
   "id": "718b3bfe",
   "metadata": {},
   "outputs": [
    {
     "data": {
      "text/plain": [
       "['banana', 'cherry', 'kiwi', 'mango']"
      ]
     },
     "execution_count": 22,
     "metadata": {},
     "output_type": "execute_result"
    }
   ],
   "source": [
    "[ele for ele in list1 if (ele != \"apple\")]"
   ]
  },
  {
   "cell_type": "code",
   "execution_count": 26,
   "id": "dda9b212",
   "metadata": {},
   "outputs": [],
   "source": [
    "list1 = ['apple','banana','cherry','kiwi','mango']\n",
    "#output : ['apple','cherry','mango']"
   ]
  },
  {
   "cell_type": "code",
   "execution_count": 27,
   "id": "42a161c7",
   "metadata": {},
   "outputs": [],
   "source": [
    "new_list= []\n",
    "\n",
    "for idx,ele in enumerate(list1):\n",
    "    if idx%2 == 0:\n",
    "        new_list.append(ele)"
   ]
  },
  {
   "cell_type": "code",
   "execution_count": 28,
   "id": "5cf661dc",
   "metadata": {},
   "outputs": [
    {
     "data": {
      "text/plain": [
       "['apple', 'cherry', 'mango']"
      ]
     },
     "execution_count": 28,
     "metadata": {},
     "output_type": "execute_result"
    }
   ],
   "source": [
    "new_list"
   ]
  },
  {
   "cell_type": "code",
   "execution_count": null,
   "id": "2b57b706",
   "metadata": {},
   "outputs": [],
   "source": [
    "#  output : [\"banana\", \"kiwi\"]"
   ]
  },
  {
   "cell_type": "code",
   "execution_count": 30,
   "id": "6680b129",
   "metadata": {},
   "outputs": [],
   "source": [
    "new_list = []\n",
    "\n",
    "for idx, ele in enumerate(list1):\n",
    "    if idx%2 != 0:\n",
    "        new_list.append(ele)"
   ]
  },
  {
   "cell_type": "code",
   "execution_count": 31,
   "id": "2509ac65",
   "metadata": {},
   "outputs": [
    {
     "data": {
      "text/plain": [
       "['banana', 'kiwi']"
      ]
     },
     "execution_count": 31,
     "metadata": {},
     "output_type": "execute_result"
    }
   ],
   "source": [
    "new_list"
   ]
  },
  {
   "cell_type": "code",
   "execution_count": 32,
   "id": "b4292f3b",
   "metadata": {},
   "outputs": [
    {
     "data": {
      "text/plain": [
       "['banana', 'kiwi']"
      ]
     },
     "execution_count": 32,
     "metadata": {},
     "output_type": "execute_result"
    }
   ],
   "source": [
    "[ele for idx,ele in enumerate(list1) if idx%2 != 0]"
   ]
  },
  {
   "cell_type": "code",
   "execution_count": 33,
   "id": "ed997b9f",
   "metadata": {},
   "outputs": [
    {
     "data": {
      "text/plain": [
       "['apple', 'banana', 'cherry', 'kiwi', 'mango']"
      ]
     },
     "execution_count": 33,
     "metadata": {},
     "output_type": "execute_result"
    }
   ],
   "source": [
    "list1"
   ]
  },
  {
   "cell_type": "code",
   "execution_count": 34,
   "id": "dbf69374",
   "metadata": {},
   "outputs": [],
   "source": [
    "new_list = []\n",
    "\n",
    "for ele in list1:\n",
    "    if \"a\" not in ele:\n",
    "        new_list.append(ele)"
   ]
  },
  {
   "cell_type": "code",
   "execution_count": 36,
   "id": "7c35bd40",
   "metadata": {},
   "outputs": [
    {
     "data": {
      "text/plain": [
       "['apple', 'banana', 'cherry', 'kiwi', 'mango']"
      ]
     },
     "execution_count": 36,
     "metadata": {},
     "output_type": "execute_result"
    }
   ],
   "source": [
    "list1"
   ]
  },
  {
   "cell_type": "code",
   "execution_count": null,
   "id": "db421ba5",
   "metadata": {},
   "outputs": [],
   "source": []
  },
  {
   "cell_type": "markdown",
   "id": "b939924f",
   "metadata": {},
   "source": [
    "# <font color = red> List Comprehensions"
   ]
  },
  {
   "cell_type": "code",
   "execution_count": 38,
   "id": "5b0e46e1",
   "metadata": {},
   "outputs": [],
   "source": [
    "#  one line \n",
    "\n",
    "new_list = []\n",
    "\n",
    "for ele in list1:\n",
    "    if \"a\" not in ele:\n",
    "        new_list.append(ele)"
   ]
  },
  {
   "cell_type": "code",
   "execution_count": 40,
   "id": "ec6a05dd",
   "metadata": {},
   "outputs": [
    {
     "data": {
      "text/plain": [
       "['cherry', 'kiwi']"
      ]
     },
     "execution_count": 40,
     "metadata": {},
     "output_type": "execute_result"
    }
   ],
   "source": [
    "new_list"
   ]
  },
  {
   "cell_type": "code",
   "execution_count": 42,
   "id": "0c34bcc9",
   "metadata": {},
   "outputs": [
    {
     "data": {
      "text/plain": [
       "['cherry', 'kiwi']"
      ]
     },
     "execution_count": 42,
     "metadata": {},
     "output_type": "execute_result"
    }
   ],
   "source": [
    "[ele for ele in list1 if \"a\" not in ele]"
   ]
  },
  {
   "cell_type": "code",
   "execution_count": 43,
   "id": "ea52763b",
   "metadata": {},
   "outputs": [],
   "source": [
    "# [0,1,2,3,4,5,6,7,8,9,10]"
   ]
  },
  {
   "cell_type": "code",
   "execution_count": 44,
   "id": "8c8fb05d",
   "metadata": {},
   "outputs": [
    {
     "data": {
      "text/plain": [
       "['apple', 'banana', 'cherry', 'kiwi', 'mango']"
      ]
     },
     "execution_count": 44,
     "metadata": {},
     "output_type": "execute_result"
    }
   ],
   "source": [
    "list1"
   ]
  },
  {
   "cell_type": "code",
   "execution_count": 45,
   "id": "a5238f1e",
   "metadata": {},
   "outputs": [
    {
     "data": {
      "text/plain": [
       "['Apple', 'Banana', 'Cherry', 'Kiwi', 'Mango']"
      ]
     },
     "execution_count": 45,
     "metadata": {},
     "output_type": "execute_result"
    }
   ],
   "source": [
    "[i.title() for i in list1]"
   ]
  },
  {
   "cell_type": "code",
   "execution_count": null,
   "id": "85ece917",
   "metadata": {},
   "outputs": [],
   "source": []
  },
  {
   "cell_type": "markdown",
   "id": "7c7c5c31",
   "metadata": {},
   "source": [
    "### <font color = brown> Find the number between 0 to 100 which are divisible by 3"
   ]
  },
  {
   "cell_type": "code",
   "execution_count": 47,
   "id": "4ff7a446",
   "metadata": {},
   "outputs": [
    {
     "data": {
      "text/plain": [
       "[3,\n",
       " 6,\n",
       " 9,\n",
       " 12,\n",
       " 15,\n",
       " 18,\n",
       " 21,\n",
       " 24,\n",
       " 27,\n",
       " 30,\n",
       " 33,\n",
       " 36,\n",
       " 39,\n",
       " 42,\n",
       " 45,\n",
       " 48,\n",
       " 51,\n",
       " 54,\n",
       " 57,\n",
       " 60,\n",
       " 63,\n",
       " 66,\n",
       " 69,\n",
       " 72,\n",
       " 75,\n",
       " 78,\n",
       " 81,\n",
       " 84,\n",
       " 87,\n",
       " 90,\n",
       " 93,\n",
       " 96,\n",
       " 99]"
      ]
     },
     "execution_count": 47,
     "metadata": {},
     "output_type": "execute_result"
    }
   ],
   "source": [
    "[i for i in range(1,101) if i%3 ==0]"
   ]
  },
  {
   "cell_type": "code",
   "execution_count": 48,
   "id": "350a930e",
   "metadata": {},
   "outputs": [],
   "source": [
    "string = \"python is a roadmap for data science\""
   ]
  },
  {
   "cell_type": "code",
   "execution_count": 49,
   "id": "89dadc0d",
   "metadata": {},
   "outputs": [
    {
     "name": "stdout",
     "output_type": "stream",
     "text": [
      "a\n",
      "a\n",
      "a\n",
      "a\n",
      "a\n"
     ]
    }
   ],
   "source": [
    "for i in string:\n",
    "    if i == \"a\":\n",
    "        print(i)"
   ]
  },
  {
   "cell_type": "code",
   "execution_count": 51,
   "id": "d04256fe",
   "metadata": {},
   "outputs": [
    {
     "data": {
      "text/plain": [
       "['a', 'a', 'a', 'a', 'a']"
      ]
     },
     "execution_count": 51,
     "metadata": {},
     "output_type": "execute_result"
    }
   ],
   "source": [
    "[i for i in string if i == \" \"]"
   ]
  },
  {
   "cell_type": "code",
   "execution_count": 52,
   "id": "53b351cd",
   "metadata": {},
   "outputs": [
    {
     "data": {
      "text/plain": [
       "6"
      ]
     },
     "execution_count": 52,
     "metadata": {},
     "output_type": "execute_result"
    }
   ],
   "source": [
    "len([i for i in string if i == \" \" ])"
   ]
  },
  {
   "cell_type": "code",
   "execution_count": 54,
   "id": "c99fec46",
   "metadata": {},
   "outputs": [
    {
     "data": {
      "text/plain": [
       "'pythn s  rdmp fr dt scnc'"
      ]
     },
     "execution_count": 54,
     "metadata": {},
     "output_type": "execute_result"
    }
   ],
   "source": [
    "\"\".join([i for i in string if i not in \"aeiou\"])"
   ]
  },
  {
   "cell_type": "code",
   "execution_count": 55,
   "id": "714d1d68",
   "metadata": {},
   "outputs": [
    {
     "data": {
      "text/plain": [
       "['Python', 'is', 'a', 'roadmap', 'for', 'Data', 'Science']"
      ]
     },
     "execution_count": 55,
     "metadata": {},
     "output_type": "execute_result"
    }
   ],
   "source": [
    "string = \"Python is a roadmap for Data Science\"\n",
    "string.split()"
   ]
  },
  {
   "cell_type": "code",
   "execution_count": 56,
   "id": "42a5e2df",
   "metadata": {},
   "outputs": [],
   "source": [
    "dict1 = {}\n",
    "\n",
    "for i in string.split():\n",
    "    dict1[i] = len(i)"
   ]
  },
  {
   "cell_type": "code",
   "execution_count": 57,
   "id": "a82c56a2",
   "metadata": {},
   "outputs": [
    {
     "data": {
      "text/plain": [
       "{'Python': 6, 'is': 2, 'a': 1, 'roadmap': 7, 'for': 3, 'Data': 4, 'Science': 7}"
      ]
     },
     "execution_count": 57,
     "metadata": {},
     "output_type": "execute_result"
    }
   ],
   "source": [
    "dict1"
   ]
  },
  {
   "cell_type": "code",
   "execution_count": 58,
   "id": "7767dedf",
   "metadata": {},
   "outputs": [
    {
     "data": {
      "text/plain": [
       "6"
      ]
     },
     "execution_count": 58,
     "metadata": {},
     "output_type": "execute_result"
    }
   ],
   "source": [
    "len(\"pramod\")"
   ]
  },
  {
   "cell_type": "code",
   "execution_count": 59,
   "id": "b035670b",
   "metadata": {},
   "outputs": [
    {
     "data": {
      "text/plain": [
       "['Python', 'is', 'a', 'roadmap', 'for', 'Data', 'Science']"
      ]
     },
     "execution_count": 59,
     "metadata": {},
     "output_type": "execute_result"
    }
   ],
   "source": [
    "string.split()"
   ]
  },
  {
   "cell_type": "code",
   "execution_count": null,
   "id": "dddfbf67",
   "metadata": {},
   "outputs": [],
   "source": []
  },
  {
   "cell_type": "code",
   "execution_count": null,
   "id": "712c73de",
   "metadata": {},
   "outputs": [],
   "source": []
  }
 ],
 "metadata": {
  "kernelspec": {
   "display_name": "Python 3 (ipykernel)",
   "language": "python",
   "name": "python3"
  },
  "language_info": {
   "codemirror_mode": {
    "name": "ipython",
    "version": 3
   },
   "file_extension": ".py",
   "mimetype": "text/x-python",
   "name": "python",
   "nbconvert_exporter": "python",
   "pygments_lexer": "ipython3",
   "version": "3.9.7"
  }
 },
 "nbformat": 4,
 "nbformat_minor": 5
}
